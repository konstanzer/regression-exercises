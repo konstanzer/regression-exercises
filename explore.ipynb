{
 "cells": [
  {
   "cell_type": "code",
   "execution_count": null,
   "id": "fancy-graph",
   "metadata": {},
   "outputs": [],
   "source": [
    "import explore\n",
    "import acquire\n",
    "import wrangle\n",
    "\n",
    "import pandas as pd"
   ]
  },
  {
   "cell_type": "code",
   "execution_count": null,
   "id": "335609eb-4706-428e-9b84-defd1a88bbcf",
   "metadata": {
    "tags": []
   },
   "outputs": [],
   "source": [
    "#df = acquire.get_zillow_data()\n",
    "#X_train, X_test, X_val, y_train, y_test, y_val = wrangle.wrangle_zillow(df)\n",
    "\n",
    "df = pd.read_csv(\"kaggle_telco.csv\")\n",
    "y = df.pop(\"Churn\")\n",
    "X_train, X_test, X_val, y_train, y_test, y_val = wrangle.split_data(df, y, .15)"
   ]
  },
  {
   "cell_type": "code",
   "execution_count": null,
   "id": "06b9ca48-534d-406e-841b-068dd09cb410",
   "metadata": {},
   "outputs": [],
   "source": [
    "explore.plot_variable_pairs(X_train)"
   ]
  },
  {
   "cell_type": "code",
   "execution_count": null,
   "id": "73985c7a-40de-469f-8073-93dfffd81a7f",
   "metadata": {},
   "outputs": [],
   "source": [
    "X_train = explore.months_to_years(X_train)"
   ]
  },
  {
   "cell_type": "code",
   "execution_count": null,
   "id": "9bded774-d0ac-4184-9749-059f04fefc9e",
   "metadata": {},
   "outputs": [],
   "source": [
    "explore.plot_categorical_and_continuous_vars(X_train, 'MonthlyCharges', 'tenure')"
   ]
  },
  {
   "cell_type": "code",
   "execution_count": null,
   "id": "b7dc4abc-ddb7-47b9-9765-1e704fc55a74",
   "metadata": {},
   "outputs": [],
   "source": []
  }
 ],
 "metadata": {
  "kernelspec": {
   "display_name": "Python 3 (ipykernel)",
   "language": "python",
   "name": "python3"
  },
  "language_info": {
   "codemirror_mode": {
    "name": "ipython",
    "version": 3
   },
   "file_extension": ".py",
   "mimetype": "text/x-python",
   "name": "python",
   "nbconvert_exporter": "python",
   "pygments_lexer": "ipython3",
   "version": "3.8.11"
  }
 },
 "nbformat": 4,
 "nbformat_minor": 5
}
