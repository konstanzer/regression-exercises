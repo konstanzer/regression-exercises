{
 "cells": [
  {
   "cell_type": "code",
   "execution_count": 1,
   "id": "manual-remove",
   "metadata": {},
   "outputs": [],
   "source": [
    "from pydataset import data\n",
    "from sklearn.linear_model import LinearRegression\n",
    "\n",
    "from scipy import stats\n",
    "import evaluate\n",
    "\n",
    "import numpy as np\n",
    "from math import sqrt\n",
    "import matplotlib.pyplot as plt\n",
    "\n",
    "import warnings\n",
    "warnings.filterwarnings('ignore')"
   ]
  },
  {
   "cell_type": "code",
   "execution_count": 2,
   "id": "438a2a30-0ddf-4aa0-b6ca-73f7e46e76d6",
   "metadata": {},
   "outputs": [],
   "source": [
    "df = data(\"tips\")\n",
    "x = 'total_bill'\n",
    "y = 'tip'\n",
    "\n",
    "def fit_predict_resid(df, x, y):\n",
    "    ols_model = LinearRegression().fit(df[[x]], df[y])\n",
    "    df['yhat'] = ols_model.predict(df[[x]])\n",
    "    df['residual'] = df['yhat'] - df[y]\n",
    "    \n",
    "    return df\n",
    "\n",
    "df = fit_predict_resid(df, x, y)"
   ]
  },
  {
   "cell_type": "code",
   "execution_count": 3,
   "id": "cfc66d21-3c14-47a5-bcbf-be16d02fd043",
   "metadata": {},
   "outputs": [
    {
     "data": {
      "image/png": "[encoded data removed]",
      "text/plain": [
       "<Figure size 432x288 with 1 Axes>"
      ]
     },
     "metadata": {
      "needs_background": "light"
     },
     "output_type": "display_data"
    }
   ],
   "source": [
    "evaluate.plot_residuals(df.tip, df.yhat)"
   ]
  },
  {
   "cell_type": "code",
   "execution_count": 10,
   "id": "8bdcd8a1-0d66-4c49-94b3-6f003556e635",
   "metadata": {},
   "outputs": [
    {
     "name": "stdout",
     "output_type": "stream",
     "text": [
      "SSE, ESS, TSS, MSE, RMSE, R2\n"
     ]
    },
    {
     "data": {
      "text/plain": [
       "(252.79, 212.42, 465.21, 1.04, 1.02, 0.46)"
      ]
     },
     "execution_count": 10,
     "metadata": {},
     "output_type": "execute_result"
    }
   ],
   "source": [
    "evaluate.regression_errors(df.tip, df.yhat)"
   ]
  },
  {
   "cell_type": "code",
   "execution_count": 5,
   "id": "2829e55e-50c4-4d20-87af-9dc6d1defe41",
   "metadata": {},
   "outputs": [
    {
     "name": "stdout",
     "output_type": "stream",
     "text": [
      "SSE, ESS, TSS, MSE, RMSE, R2\n"
     ]
    },
    {
     "data": {
      "text/plain": [
       "(465.21, 0.0, 465.21, 1.91, 1.38, 0.0)"
      ]
     },
     "execution_count": 5,
     "metadata": {},
     "output_type": "execute_result"
    }
   ],
   "source": [
    "# mean baseline\n",
    "evaluate.baseline_mean_errors(df.tip)"
   ]
  },
  {
   "cell_type": "code",
   "execution_count": 6,
   "id": "032e6488-14b9-4c3e-a9a0-5570305c8193",
   "metadata": {},
   "outputs": [
    {
     "name": "stdout",
     "output_type": "stream",
     "text": [
      "SSE, ESS, TSS, MSE, RMSE, R2\n",
      "SSE, ESS, TSS, MSE, RMSE, R2\n"
     ]
    },
    {
     "data": {
      "text/plain": [
       "True"
      ]
     },
     "execution_count": 6,
     "metadata": {},
     "output_type": "execute_result"
    }
   ],
   "source": [
    "#Yes bill model off by $1.02 on average, 'tis better than $1.38\n",
    "evaluate.better_than_baseline(df.tip, df.yhat)"
   ]
  },
  {
   "cell_type": "markdown",
   "id": "f6d60b9d-287c-461d-9e97-7f5ea5feaa73",
   "metadata": {},
   "source": [
    "## Part Deux"
   ]
  },
  {
   "cell_type": "code",
   "execution_count": 7,
   "id": "7bd8e0fb-f0e8-4df8-9b62-920ffe3f2afc",
   "metadata": {},
   "outputs": [],
   "source": [
    "mpg = data(\"mpg\")"
   ]
  },
  {
   "cell_type": "code",
   "execution_count": 8,
   "id": "943c7343-c5f9-4b60-9bd5-06a5d1e3a9e0",
   "metadata": {},
   "outputs": [
    {
     "data": {
      "text/html": [
       "<div>\n",
       "<style scoped>\n",
       "    .dataframe tbody tr th:only-of-type {\n",
       "        vertical-align: middle;\n",
       "    }\n",
       "\n",
       "    .dataframe tbody tr th {\n",
       "        vertical-align: top;\n",
       "    }\n",
       "\n",
       "    .dataframe thead th {\n",
       "        text-align: right;\n",
       "    }\n",
       "</style>\n",
       "<table border=\"1\" class=\"dataframe\">\n",
       "  <thead>\n",
       "    <tr style=\"text-align: right;\">\n",
       "      <th></th>\n",
       "      <th>manufacturer</th>\n",
       "      <th>model</th>\n",
       "      <th>displ</th>\n",
       "      <th>year</th>\n",
       "      <th>cyl</th>\n",
       "      <th>trans</th>\n",
       "      <th>drv</th>\n",
       "      <th>cty</th>\n",
       "      <th>hwy</th>\n",
       "      <th>fl</th>\n",
       "      <th>class</th>\n",
       "      <th>yhat</th>\n",
       "      <th>residual</th>\n",
       "    </tr>\n",
       "  </thead>\n",
       "  <tbody>\n",
       "    <tr>\n",
       "      <th>1</th>\n",
       "      <td>audi</td>\n",
       "      <td>a4</td>\n",
       "      <td>1.8</td>\n",
       "      <td>1999</td>\n",
       "      <td>4</td>\n",
       "      <td>auto(l5)</td>\n",
       "      <td>f</td>\n",
       "      <td>18</td>\n",
       "      <td>29</td>\n",
       "      <td>p</td>\n",
       "      <td>compact</td>\n",
       "      <td>29.342591</td>\n",
       "      <td>0.342591</td>\n",
       "    </tr>\n",
       "    <tr>\n",
       "      <th>2</th>\n",
       "      <td>audi</td>\n",
       "      <td>a4</td>\n",
       "      <td>1.8</td>\n",
       "      <td>1999</td>\n",
       "      <td>4</td>\n",
       "      <td>manual(m5)</td>\n",
       "      <td>f</td>\n",
       "      <td>21</td>\n",
       "      <td>29</td>\n",
       "      <td>p</td>\n",
       "      <td>compact</td>\n",
       "      <td>29.342591</td>\n",
       "      <td>0.342591</td>\n",
       "    </tr>\n",
       "  </tbody>\n",
       "</table>\n",
       "</div>"
      ],
      "text/plain": [
       "  manufacturer model  displ  year  cyl       trans drv  cty  hwy fl    class  \\\n",
       "1         audi    a4    1.8  1999    4    auto(l5)   f   18   29  p  compact   \n",
       "2         audi    a4    1.8  1999    4  manual(m5)   f   21   29  p  compact   \n",
       "\n",
       "        yhat  residual  \n",
       "1  29.342591  0.342591  \n",
       "2  29.342591  0.342591  "
      ]
     },
     "execution_count": 8,
     "metadata": {},
     "output_type": "execute_result"
    }
   ],
   "source": [
    "mpg = fit_predict_resid(mpg, 'displ', 'hwy')\n",
    "mpg.head(2)"
   ]
  },
  {
   "cell_type": "code",
   "execution_count": 11,
   "id": "0e6bf474-5ea4-49f5-a9e2-e821553e9de7",
   "metadata": {},
   "outputs": [
    {
     "name": "stdout",
     "output_type": "stream",
     "text": [
      "SSE, ESS, TSS, MSE, RMSE, R2\n"
     ]
    },
    {
     "data": {
      "text/plain": [
       "(3413.83, 4847.83, 8261.66, 14.59, 3.82, 0.59)"
      ]
     },
     "execution_count": 11,
     "metadata": {},
     "output_type": "execute_result"
    }
   ],
   "source": [
    "# R^2 ~ .59 -> 59% of variance explained by model\n",
    "# RMSE -> ~4 mpg off on avg.\n",
    "evaluate.regression_errors(mpg.hwy, mpg.yhat)"
   ]
  },
  {
   "cell_type": "code",
   "execution_count": 12,
   "id": "934decc0-6263-401b-a899-7af2d69e9d59",
   "metadata": {},
   "outputs": [
    {
     "name": "stdout",
     "output_type": "stream",
     "text": [
      "SSE, ESS, TSS, MSE, RMSE, R2\n"
     ]
    },
    {
     "data": {
      "text/plain": [
       "(8261.66, 0.0, 8261.66, 35.31, 5.94, 0.0)"
      ]
     },
     "execution_count": 12,
     "metadata": {},
     "output_type": "execute_result"
    }
   ],
   "source": [
    "# mean baseline is off by ~6 mpg on avg.\n",
    "evaluate.baseline_mean_errors(mpg.hwy)"
   ]
  },
  {
   "cell_type": "code",
   "execution_count": 13,
   "id": "d1caf3ed-6e8a-462c-b8a2-9f7530b9b30e",
   "metadata": {},
   "outputs": [
    {
     "name": "stdout",
     "output_type": "stream",
     "text": [
      "SSE, ESS, TSS, MSE, RMSE, R2\n",
      "SSE, ESS, TSS, MSE, RMSE, R2\n"
     ]
    },
    {
     "data": {
      "text/plain": [
       "True"
      ]
     },
     "execution_count": 13,
     "metadata": {},
     "output_type": "execute_result"
    }
   ],
   "source": [
    "#Lower RMSE -> better model\n",
    "evaluate.better_than_baseline(mpg.hwy, mpg.yhat)"
   ]
  },
  {
   "cell_type": "code",
   "execution_count": null,
   "id": "aeec3b47-ea49-4daf-b677-0332f0cfe2c9",
   "metadata": {},
   "outputs": [],
   "source": []
  }
 ],
 "metadata": {
  "kernelspec": {
   "display_name": "Python 3 (ipykernel)",
   "language": "python",
   "name": "python3"
  },
  "language_info": {
   "codemirror_mode": {
    "name": "ipython",
    "version": 3
   },
   "file_extension": ".py",
   "mimetype": "text/x-python",
   "name": "python",
   "nbconvert_exporter": "python",
   "pygments_lexer": "ipython3",
   "version": "3.8.11"
  }
 },
 "nbformat": 4,
 "nbformat_minor": 5
}
