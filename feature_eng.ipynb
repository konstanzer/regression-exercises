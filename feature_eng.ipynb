{
 "cells": [
  {
   "cell_type": "code",
   "execution_count": 1,
   "id": "0b4f90dd-4f2a-45ac-8b01-4f6b5c71199b",
   "metadata": {},
   "outputs": [],
   "source": [
    "from pydataset import data\n",
    "from sklearn.linear_model import LinearRegression\n",
    "from sklearn.preprocessing import MinMaxScaler\n",
    "from sklearn.pipeline import make_pipeline\n",
    "from sklearn.feature_selection import SelectKBest, f_regression, RFE\n",
    "\n",
    "import pandas as pd\n",
    "from wrangle import split_data\n",
    "\n",
    "import numpy as np\n",
    "from math import sqrt\n",
    "import matplotlib.pyplot as plt\n",
    "\n",
    "import warnings\n",
    "warnings.filterwarnings('ignore')"
   ]
  },
  {
   "cell_type": "code",
   "execution_count": 2,
   "id": "86b2c73c-1dd9-4788-ac00-219c604d1837",
   "metadata": {},
   "outputs": [],
   "source": [
    "def select_kbest(X, y, k):\n",
    "    \"\"\"takes in the predictors (X), the target (y), and the number of features to select (k)\n",
    "    and returns the names of the top k selected features based on the SelectKBest class.\"\"\"\n",
    "    # parameters: f_regression stats test, give me 8 features\n",
    "    f_selector = make_pipeline(MinMaxScaler(), SelectKBest(f_regression, k=k))\n",
    "    f_selector.fit(X, y)\n",
    "\n",
    "    # boolean mask of whether the column was selected or not. \n",
    "    feature_mask = f_selector[1].get_support()\n",
    "\n",
    "    # get list of top K features. \n",
    "    f_feature = X_train.iloc[:,feature_mask].columns.tolist()\n",
    "    \n",
    "    print(str(len(f_feature)), 'features')\n",
    "    print(f_feature)\n",
    "\n",
    "    \n",
    "def rfe(X, y, k):\n",
    "    \"\"\"takes in the predictors, the target, and the number of features to select.\n",
    "    and return the top k features based on the RFE class.\"\"\"\n",
    "    rfe = RFE(LinearRegression(), k)\n",
    "    X_rfe = rfe.fit_transform(X, y)\n",
    "    \n",
    "    mask = rfe.support_\n",
    "    rfe_features = X.loc[:, mask].columns.tolist()\n",
    "    \n",
    "    print(str(len(rfe_features)), 'selected features')\n",
    "    print(rfe_features)"
   ]
  },
  {
   "cell_type": "code",
   "execution_count": 3,
   "id": "5c0abc94-a656-4afe-9f35-d16ef5b9599b",
   "metadata": {},
   "outputs": [
    {
     "name": "stdout",
     "output_type": "stream",
     "text": [
      "X_train, X_test, X_val, y_train, y_test, y_val\n",
      "(170, 10) (37, 10) (37, 10) (170,) (37,) (37,)\n",
      "<class 'pandas.core.frame.DataFrame'>\n",
      "Int64Index: 244 entries, 1 to 244\n",
      "Data columns (total 10 columns):\n",
      " #   Column            Non-Null Count  Dtype  \n",
      "---  ------            --------------  -----  \n",
      " 0   total_bill        244 non-null    float64\n",
      " 1   size              244 non-null    int64  \n",
      " 2   tip_percentage    244 non-null    float64\n",
      " 3   price_per_person  244 non-null    float64\n",
      " 4   sex_Male          244 non-null    uint8  \n",
      " 5   smoker_Yes        244 non-null    uint8  \n",
      " 6   day_Sat           244 non-null    uint8  \n",
      " 7   day_Sun           244 non-null    uint8  \n",
      " 8   day_Thur          244 non-null    uint8  \n",
      " 9   time_Lunch        244 non-null    uint8  \n",
      "dtypes: float64(3), int64(1), uint8(6)\n",
      "memory usage: 11.0 KB\n"
     ]
    }
   ],
   "source": [
    "df = data(\"tips\")\n",
    "\n",
    "# df.size == columns * rows\n",
    "#bill must be the best feature\n",
    "df['tip_percentage'] = df.tip/df.total_bill\n",
    "df['price_per_person'] = df.total_bill/df['size']\n",
    "\n",
    "y = df.pop('tip')\n",
    "df = pd.get_dummies(df, drop_first=True)\n",
    "\n",
    "X_train, X_test, X_val, y_train, y_test, y_val = split_data(df, y)\n",
    "\n",
    "df.info()"
   ]
  },
  {
   "cell_type": "code",
   "execution_count": 4,
   "id": "ecaf2f83-37bd-442d-ba41-bd795b7e81f6",
   "metadata": {},
   "outputs": [
    {
     "name": "stdout",
     "output_type": "stream",
     "text": [
      "8 features\n",
      "['total_bill', 'size', 'tip_percentage', 'price_per_person', 'sex_Male', 'day_Sun', 'day_Thur', 'time_Lunch']\n",
      "\n",
      "\n",
      "2 selected features\n",
      "['size', 'tip_percentage']\n"
     ]
    }
   ],
   "source": [
    "select_kbest(X_train, y_train, k=8)\n",
    "print(\"\\n\")\n",
    "rfe(X_train, y_train, k=2)"
   ]
  },
  {
   "cell_type": "code",
   "execution_count": 6,
   "id": "b15e8d7f-6230-4532-b031-5fef79fb3b8d",
   "metadata": {},
   "outputs": [
    {
     "name": "stdout",
     "output_type": "stream",
     "text": [
      "X_train, X_test, X_val, y_train, y_test, y_val\n",
      "(170, 10) (37, 10) (37, 10) (170,) (37,) (37,)\n",
      "\n",
      "\n",
      "8 features\n",
      "['total_bill', 'size', 'price_per_person', 'smoker_Yes', 'day_Sat', 'day_Sun', 'time_Lunch', 'tip']\n",
      "\n",
      "\n",
      "2 selected features\n",
      "['size', 'tip']\n"
     ]
    }
   ],
   "source": [
    "#using tip percentage: top 2 size and tip\n",
    "#the predictor swapped with the second feature, not surprising\n",
    "df = pd.concat([df,y], axis=1)\n",
    "y = df.pop('tip_percentage')\n",
    "\n",
    "X_train, X_test, X_val, y_train, y_test, y_val = split_data(df, y)\n",
    "print(\"\\n\")\n",
    "select_kbest(X_train, y_train, k=8)\n",
    "print(\"\\n\")\n",
    "rfe(X_train, y_train, k=2)"
   ]
  },
  {
   "cell_type": "code",
   "execution_count": 22,
   "id": "97de3f60-9119-44af-8de8-7c523aa16be1",
   "metadata": {},
   "outputs": [
    {
     "data": {
      "text/html": [
       "<div>\n",
       "<style scoped>\n",
       "    .dataframe tbody tr th:only-of-type {\n",
       "        vertical-align: middle;\n",
       "    }\n",
       "\n",
       "    .dataframe tbody tr th {\n",
       "        vertical-align: top;\n",
       "    }\n",
       "\n",
       "    .dataframe thead th {\n",
       "        text-align: right;\n",
       "    }\n",
       "</style>\n",
       "<table border=\"1\" class=\"dataframe\">\n",
       "  <thead>\n",
       "    <tr style=\"text-align: right;\">\n",
       "      <th></th>\n",
       "      <th>Agriculture</th>\n",
       "      <th>Examination</th>\n",
       "      <th>Education</th>\n",
       "      <th>Catholic</th>\n",
       "      <th>Infant.Mortality</th>\n",
       "    </tr>\n",
       "  </thead>\n",
       "  <tbody>\n",
       "    <tr>\n",
       "      <th>Courtelary</th>\n",
       "      <td>17.0</td>\n",
       "      <td>15</td>\n",
       "      <td>12</td>\n",
       "      <td>9.96</td>\n",
       "      <td>22.2</td>\n",
       "    </tr>\n",
       "    <tr>\n",
       "      <th>Delemont</th>\n",
       "      <td>45.1</td>\n",
       "      <td>6</td>\n",
       "      <td>9</td>\n",
       "      <td>84.84</td>\n",
       "      <td>22.2</td>\n",
       "    </tr>\n",
       "  </tbody>\n",
       "</table>\n",
       "</div>"
      ],
      "text/plain": [
       "            Agriculture  Examination  Education  Catholic  Infant.Mortality\n",
       "Courtelary         17.0           15         12      9.96              22.2\n",
       "Delemont           45.1            6          9     84.84              22.2"
      ]
     },
     "execution_count": 22,
     "metadata": {},
     "output_type": "execute_result"
    }
   ],
   "source": [
    "df2 = data(\"swiss\")\n",
    "y = df2.pop('Fertility')\n",
    "df2.head(2)"
   ]
  },
  {
   "cell_type": "code",
   "execution_count": 20,
   "id": "5634d337-f464-4668-b5f4-55840da620ed",
   "metadata": {},
   "outputs": [
    {
     "name": "stdout",
     "output_type": "stream",
     "text": [
      "X_train, X_test, X_val, y_train, y_test, y_val\n",
      "(32, 5) (8, 5) (7, 5) (32,) (8,) (7,)\n",
      "\n",
      "\n",
      "3 features\n",
      "['Examination', 'Education', 'Catholic']\n",
      "\n",
      "Recursive feature elimination:\n",
      "3 selected features\n",
      "['Examination', 'Education', 'Infant.Mortality']\n"
     ]
    }
   ],
   "source": [
    "X_train, X_test, X_val, y_train, y_test, y_val = split_data(df2, y)\n",
    "k=3\n",
    "\n",
    "print(\"\\n\")\n",
    "select_kbest(X_train, y_train, k=k)\n",
    "print(\"\\nRecursive feature elimination:\")\n",
    "rfe(X_train, y_train, k=k)"
   ]
  },
  {
   "cell_type": "code",
   "execution_count": null,
   "id": "8f9c5435-b5f6-4b28-a0e0-8015cb28ec7f",
   "metadata": {},
   "outputs": [],
   "source": []
  }
 ],
 "metadata": {
  "kernelspec": {
   "display_name": "Python 3 (ipykernel)",
   "language": "python",
   "name": "python3"
  },
  "language_info": {
   "codemirror_mode": {
    "name": "ipython",
    "version": 3
   },
   "file_extension": ".py",
   "mimetype": "text/x-python",
   "name": "python",
   "nbconvert_exporter": "python",
   "pygments_lexer": "ipython3",
   "version": "3.8.11"
  }
 },
 "nbformat": 4,
 "nbformat_minor": 5
}
